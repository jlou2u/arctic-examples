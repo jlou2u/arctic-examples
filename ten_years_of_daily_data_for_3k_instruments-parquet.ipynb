{
 "cells": [
  {
   "cell_type": "code",
   "execution_count": 1,
   "metadata": {
    "collapsed": true
   },
   "outputs": [],
   "source": [
    "!rm -r ./data/\n",
    "!mkdir data"
   ]
  },
  {
   "cell_type": "code",
   "execution_count": 1,
   "metadata": {
    "collapsed": true
   },
   "outputs": [],
   "source": [
    "import time\n",
    "\n",
    "import numpy as np\n",
    "import pandas as pd\n",
    "import pyarrow.parquet as pq\n",
    "import pyarrow as pa"
   ]
  },
  {
   "cell_type": "markdown",
   "metadata": {},
   "source": [
    "Create an example dataframe\n",
    "==="
   ]
  },
  {
   "cell_type": "code",
   "execution_count": 2,
   "metadata": {},
   "outputs": [
    {
     "data": {
      "text/html": [
       "<div>\n",
       "<style>\n",
       "    .dataframe thead tr:only-child th {\n",
       "        text-align: right;\n",
       "    }\n",
       "\n",
       "    .dataframe thead th {\n",
       "        text-align: left;\n",
       "    }\n",
       "\n",
       "    .dataframe tbody tr th {\n",
       "        vertical-align: top;\n",
       "    }\n",
       "</style>\n",
       "<table border=\"1\" class=\"dataframe\">\n",
       "  <thead>\n",
       "    <tr style=\"text-align: right;\">\n",
       "      <th></th>\n",
       "      <th>security_1</th>\n",
       "      <th>security_2</th>\n",
       "      <th>security_3</th>\n",
       "      <th>security_4</th>\n",
       "      <th>security_5</th>\n",
       "      <th>security_6</th>\n",
       "      <th>security_7</th>\n",
       "      <th>security_8</th>\n",
       "      <th>security_9</th>\n",
       "      <th>security_10</th>\n",
       "      <th>...</th>\n",
       "      <th>security_2991</th>\n",
       "      <th>security_2992</th>\n",
       "      <th>security_2993</th>\n",
       "      <th>security_2994</th>\n",
       "      <th>security_2995</th>\n",
       "      <th>security_2996</th>\n",
       "      <th>security_2997</th>\n",
       "      <th>security_2998</th>\n",
       "      <th>security_2999</th>\n",
       "      <th>security_3000</th>\n",
       "    </tr>\n",
       "  </thead>\n",
       "  <tbody>\n",
       "    <tr>\n",
       "      <th>2000-01-01</th>\n",
       "      <td>0.354541</td>\n",
       "      <td>0.708911</td>\n",
       "      <td>0.499456</td>\n",
       "      <td>0.510337</td>\n",
       "      <td>0.922883</td>\n",
       "      <td>0.033395</td>\n",
       "      <td>0.357226</td>\n",
       "      <td>0.190096</td>\n",
       "      <td>0.860784</td>\n",
       "      <td>0.005599</td>\n",
       "      <td>...</td>\n",
       "      <td>0.291205</td>\n",
       "      <td>0.034257</td>\n",
       "      <td>0.631848</td>\n",
       "      <td>0.131862</td>\n",
       "      <td>0.824423</td>\n",
       "      <td>0.066367</td>\n",
       "      <td>0.744519</td>\n",
       "      <td>0.048967</td>\n",
       "      <td>0.992172</td>\n",
       "      <td>0.814976</td>\n",
       "    </tr>\n",
       "    <tr>\n",
       "      <th>2000-01-02</th>\n",
       "      <td>0.279024</td>\n",
       "      <td>0.079413</td>\n",
       "      <td>0.068638</td>\n",
       "      <td>0.853236</td>\n",
       "      <td>0.338223</td>\n",
       "      <td>0.703762</td>\n",
       "      <td>0.227241</td>\n",
       "      <td>0.311834</td>\n",
       "      <td>0.969553</td>\n",
       "      <td>0.904654</td>\n",
       "      <td>...</td>\n",
       "      <td>0.197242</td>\n",
       "      <td>0.583723</td>\n",
       "      <td>0.795671</td>\n",
       "      <td>0.483001</td>\n",
       "      <td>0.784262</td>\n",
       "      <td>0.720391</td>\n",
       "      <td>0.767673</td>\n",
       "      <td>0.172491</td>\n",
       "      <td>0.412795</td>\n",
       "      <td>0.546260</td>\n",
       "    </tr>\n",
       "    <tr>\n",
       "      <th>2000-01-03</th>\n",
       "      <td>0.034746</td>\n",
       "      <td>0.953173</td>\n",
       "      <td>0.759384</td>\n",
       "      <td>0.598813</td>\n",
       "      <td>0.098014</td>\n",
       "      <td>0.141438</td>\n",
       "      <td>0.662880</td>\n",
       "      <td>0.755807</td>\n",
       "      <td>0.183857</td>\n",
       "      <td>0.432211</td>\n",
       "      <td>...</td>\n",
       "      <td>0.500687</td>\n",
       "      <td>0.563940</td>\n",
       "      <td>0.815323</td>\n",
       "      <td>0.975221</td>\n",
       "      <td>0.978903</td>\n",
       "      <td>0.543722</td>\n",
       "      <td>0.283110</td>\n",
       "      <td>0.146224</td>\n",
       "      <td>0.012950</td>\n",
       "      <td>0.829734</td>\n",
       "    </tr>\n",
       "    <tr>\n",
       "      <th>2000-01-04</th>\n",
       "      <td>0.512492</td>\n",
       "      <td>0.469804</td>\n",
       "      <td>0.754630</td>\n",
       "      <td>0.039456</td>\n",
       "      <td>0.724362</td>\n",
       "      <td>0.644115</td>\n",
       "      <td>0.766490</td>\n",
       "      <td>0.894468</td>\n",
       "      <td>0.513650</td>\n",
       "      <td>0.635828</td>\n",
       "      <td>...</td>\n",
       "      <td>0.430476</td>\n",
       "      <td>0.845222</td>\n",
       "      <td>0.487150</td>\n",
       "      <td>0.183239</td>\n",
       "      <td>0.908685</td>\n",
       "      <td>0.393748</td>\n",
       "      <td>0.090328</td>\n",
       "      <td>0.365420</td>\n",
       "      <td>0.850565</td>\n",
       "      <td>0.429109</td>\n",
       "    </tr>\n",
       "    <tr>\n",
       "      <th>2000-01-05</th>\n",
       "      <td>0.980226</td>\n",
       "      <td>0.133487</td>\n",
       "      <td>0.965429</td>\n",
       "      <td>0.275501</td>\n",
       "      <td>0.416805</td>\n",
       "      <td>0.818239</td>\n",
       "      <td>0.111340</td>\n",
       "      <td>0.152094</td>\n",
       "      <td>0.987746</td>\n",
       "      <td>0.818604</td>\n",
       "      <td>...</td>\n",
       "      <td>0.550709</td>\n",
       "      <td>0.552152</td>\n",
       "      <td>0.834462</td>\n",
       "      <td>0.049471</td>\n",
       "      <td>0.153489</td>\n",
       "      <td>0.387220</td>\n",
       "      <td>0.448912</td>\n",
       "      <td>0.580141</td>\n",
       "      <td>0.422198</td>\n",
       "      <td>0.482580</td>\n",
       "    </tr>\n",
       "  </tbody>\n",
       "</table>\n",
       "<p>5 rows × 3000 columns</p>\n",
       "</div>"
      ],
      "text/plain": [
       "            security_1  security_2  security_3  security_4  security_5  \\\n",
       "2000-01-01    0.354541    0.708911    0.499456    0.510337    0.922883   \n",
       "2000-01-02    0.279024    0.079413    0.068638    0.853236    0.338223   \n",
       "2000-01-03    0.034746    0.953173    0.759384    0.598813    0.098014   \n",
       "2000-01-04    0.512492    0.469804    0.754630    0.039456    0.724362   \n",
       "2000-01-05    0.980226    0.133487    0.965429    0.275501    0.416805   \n",
       "\n",
       "            security_6  security_7  security_8  security_9  security_10  \\\n",
       "2000-01-01    0.033395    0.357226    0.190096    0.860784     0.005599   \n",
       "2000-01-02    0.703762    0.227241    0.311834    0.969553     0.904654   \n",
       "2000-01-03    0.141438    0.662880    0.755807    0.183857     0.432211   \n",
       "2000-01-04    0.644115    0.766490    0.894468    0.513650     0.635828   \n",
       "2000-01-05    0.818239    0.111340    0.152094    0.987746     0.818604   \n",
       "\n",
       "                ...        security_2991  security_2992  security_2993  \\\n",
       "2000-01-01      ...             0.291205       0.034257       0.631848   \n",
       "2000-01-02      ...             0.197242       0.583723       0.795671   \n",
       "2000-01-03      ...             0.500687       0.563940       0.815323   \n",
       "2000-01-04      ...             0.430476       0.845222       0.487150   \n",
       "2000-01-05      ...             0.550709       0.552152       0.834462   \n",
       "\n",
       "            security_2994  security_2995  security_2996  security_2997  \\\n",
       "2000-01-01       0.131862       0.824423       0.066367       0.744519   \n",
       "2000-01-02       0.483001       0.784262       0.720391       0.767673   \n",
       "2000-01-03       0.975221       0.978903       0.543722       0.283110   \n",
       "2000-01-04       0.183239       0.908685       0.393748       0.090328   \n",
       "2000-01-05       0.049471       0.153489       0.387220       0.448912   \n",
       "\n",
       "            security_2998  security_2999  security_3000  \n",
       "2000-01-01       0.048967       0.992172       0.814976  \n",
       "2000-01-02       0.172491       0.412795       0.546260  \n",
       "2000-01-03       0.146224       0.012950       0.829734  \n",
       "2000-01-04       0.365420       0.850565       0.429109  \n",
       "2000-01-05       0.580141       0.422198       0.482580  \n",
       "\n",
       "[5 rows x 3000 columns]"
      ]
     },
     "execution_count": 2,
     "metadata": {},
     "output_type": "execute_result"
    }
   ],
   "source": [
    "days = 365*10\n",
    "n_securities = 3000\n",
    "df_wide = pd.DataFrame(data=np.random.rand(days, n_securities), index=pd.date_range('2000', periods=days))\n",
    "df_wide.columns = ['security_{}'.format(i) for i in range(1, n_securities+1)]\n",
    "df_wide.head()"
   ]
  },
  {
   "cell_type": "markdown",
   "metadata": {},
   "source": [
    "Using parquet to read/write data\n",
    "==="
   ]
  },
  {
   "cell_type": "code",
   "execution_count": 3,
   "metadata": {},
   "outputs": [
    {
     "name": "stdout",
     "output_type": "stream",
     "text": [
      "CPU times: user 1.16 s, sys: 154 ms, total: 1.31 s\n",
      "Wall time: 1.34 s\n"
     ]
    }
   ],
   "source": [
    "%time pq.write_table(pa.Table.from_pandas(df_wide), 'data/wide.parquet')"
   ]
  },
  {
   "cell_type": "code",
   "execution_count": 4,
   "metadata": {},
   "outputs": [
    {
     "name": "stdout",
     "output_type": "stream",
     "text": [
      "CPU times: user 205 ms, sys: 146 ms, total: 351 ms\n",
      "Wall time: 276 ms\n"
     ]
    }
   ],
   "source": [
    "%time rb_wide = pq.read_table('data/wide.parquet').to_pandas()"
   ]
  },
  {
   "cell_type": "code",
   "execution_count": 5,
   "metadata": {},
   "outputs": [
    {
     "name": "stdout",
     "output_type": "stream",
     "text": [
      "100M\tdata/wide.parquet\r\n"
     ]
    }
   ],
   "source": [
    "!du -h data/wide.parquet"
   ]
  },
  {
   "cell_type": "code",
   "execution_count": 6,
   "metadata": {},
   "outputs": [
    {
     "name": "stdout",
     "output_type": "stream",
     "text": [
      "CPU times: user 683 ms, sys: 482 ms, total: 1.16 s\n",
      "Wall time: 1.16 s\n"
     ]
    }
   ],
   "source": [
    "# reshape wide to tall\n",
    "%time df_tall = df_wide.stack().reset_index().rename(columns={'level_0': 'date', 'level_1': 'security_id', 0: 'vals'})"
   ]
  },
  {
   "cell_type": "code",
   "execution_count": 7,
   "metadata": {},
   "outputs": [
    {
     "name": "stdout",
     "output_type": "stream",
     "text": [
      "CPU times: user 2.52 s, sys: 486 ms, total: 3 s\n",
      "Wall time: 3.04 s\n"
     ]
    }
   ],
   "source": [
    "%time pq.write_table(pa.Table.from_pandas(df_tall), 'data/tall.parquet')"
   ]
  },
  {
   "cell_type": "code",
   "execution_count": 8,
   "metadata": {},
   "outputs": [
    {
     "name": "stdout",
     "output_type": "stream",
     "text": [
      "CPU times: user 1.48 s, sys: 809 ms, total: 2.29 s\n",
      "Wall time: 2.17 s\n"
     ]
    }
   ],
   "source": [
    "%time rb_tall = pq.read_table('data/tall.parquet').to_pandas()"
   ]
  },
  {
   "cell_type": "code",
   "execution_count": 9,
   "metadata": {},
   "outputs": [
    {
     "name": "stdout",
     "output_type": "stream",
     "text": [
      "129M\tdata/tall.parquet\r\n"
     ]
    }
   ],
   "source": [
    "!du -h data/tall.parquet"
   ]
  },
  {
   "cell_type": "code",
   "execution_count": null,
   "metadata": {
    "collapsed": true
   },
   "outputs": [],
   "source": []
  }
 ],
 "metadata": {
  "kernelspec": {
   "display_name": "Python 3",
   "language": "python",
   "name": "python3"
  },
  "language_info": {
   "codemirror_mode": {
    "name": "ipython",
    "version": 3
   },
   "file_extension": ".py",
   "mimetype": "text/x-python",
   "name": "python",
   "nbconvert_exporter": "python",
   "pygments_lexer": "ipython3",
   "version": "3.6.0"
  }
 },
 "nbformat": 4,
 "nbformat_minor": 2
}
