{
 "cells": [
  {
   "cell_type": "code",
   "execution_count": 1,
   "metadata": {
    "collapsed": true
   },
   "outputs": [],
   "source": [
    "!rm -r ./data/\n",
    "!mkdir data"
   ]
  },
  {
   "cell_type": "code",
   "execution_count": 2,
   "metadata": {
    "collapsed": true
   },
   "outputs": [],
   "source": [
    "import time\n",
    "\n",
    "import numpy as np\n",
    "import pandas as pd"
   ]
  },
  {
   "cell_type": "markdown",
   "metadata": {},
   "source": [
    "Create an example dataframe\n",
    "==="
   ]
  },
  {
   "cell_type": "code",
   "execution_count": 3,
   "metadata": {},
   "outputs": [
    {
     "data": {
      "text/html": [
       "<div>\n",
       "<style>\n",
       "    .dataframe thead tr:only-child th {\n",
       "        text-align: right;\n",
       "    }\n",
       "\n",
       "    .dataframe thead th {\n",
       "        text-align: left;\n",
       "    }\n",
       "\n",
       "    .dataframe tbody tr th {\n",
       "        vertical-align: top;\n",
       "    }\n",
       "</style>\n",
       "<table border=\"1\" class=\"dataframe\">\n",
       "  <thead>\n",
       "    <tr style=\"text-align: right;\">\n",
       "      <th></th>\n",
       "      <th>security_1</th>\n",
       "      <th>security_2</th>\n",
       "      <th>security_3</th>\n",
       "      <th>security_4</th>\n",
       "      <th>security_5</th>\n",
       "      <th>security_6</th>\n",
       "      <th>security_7</th>\n",
       "      <th>security_8</th>\n",
       "      <th>security_9</th>\n",
       "      <th>security_10</th>\n",
       "      <th>...</th>\n",
       "      <th>security_2991</th>\n",
       "      <th>security_2992</th>\n",
       "      <th>security_2993</th>\n",
       "      <th>security_2994</th>\n",
       "      <th>security_2995</th>\n",
       "      <th>security_2996</th>\n",
       "      <th>security_2997</th>\n",
       "      <th>security_2998</th>\n",
       "      <th>security_2999</th>\n",
       "      <th>security_3000</th>\n",
       "    </tr>\n",
       "  </thead>\n",
       "  <tbody>\n",
       "    <tr>\n",
       "      <th>2000-01-01</th>\n",
       "      <td>0.392584</td>\n",
       "      <td>0.625054</td>\n",
       "      <td>0.669558</td>\n",
       "      <td>0.188382</td>\n",
       "      <td>0.001784</td>\n",
       "      <td>0.447520</td>\n",
       "      <td>0.252399</td>\n",
       "      <td>0.340551</td>\n",
       "      <td>0.404992</td>\n",
       "      <td>0.373324</td>\n",
       "      <td>...</td>\n",
       "      <td>0.360577</td>\n",
       "      <td>0.921351</td>\n",
       "      <td>0.634983</td>\n",
       "      <td>0.058465</td>\n",
       "      <td>0.688956</td>\n",
       "      <td>0.041971</td>\n",
       "      <td>0.998202</td>\n",
       "      <td>0.498439</td>\n",
       "      <td>0.988464</td>\n",
       "      <td>0.242572</td>\n",
       "    </tr>\n",
       "    <tr>\n",
       "      <th>2000-01-02</th>\n",
       "      <td>0.466293</td>\n",
       "      <td>0.456574</td>\n",
       "      <td>0.585439</td>\n",
       "      <td>0.972702</td>\n",
       "      <td>0.167475</td>\n",
       "      <td>0.850245</td>\n",
       "      <td>0.079154</td>\n",
       "      <td>0.483501</td>\n",
       "      <td>0.938143</td>\n",
       "      <td>0.619679</td>\n",
       "      <td>...</td>\n",
       "      <td>0.947560</td>\n",
       "      <td>0.786374</td>\n",
       "      <td>0.959465</td>\n",
       "      <td>0.192875</td>\n",
       "      <td>0.672820</td>\n",
       "      <td>0.160444</td>\n",
       "      <td>0.204460</td>\n",
       "      <td>0.752983</td>\n",
       "      <td>0.706620</td>\n",
       "      <td>0.049735</td>\n",
       "    </tr>\n",
       "    <tr>\n",
       "      <th>2000-01-03</th>\n",
       "      <td>0.247826</td>\n",
       "      <td>0.001302</td>\n",
       "      <td>0.885766</td>\n",
       "      <td>0.157682</td>\n",
       "      <td>0.500694</td>\n",
       "      <td>0.697191</td>\n",
       "      <td>0.851639</td>\n",
       "      <td>0.704573</td>\n",
       "      <td>0.443880</td>\n",
       "      <td>0.277468</td>\n",
       "      <td>...</td>\n",
       "      <td>0.988258</td>\n",
       "      <td>0.905205</td>\n",
       "      <td>0.966228</td>\n",
       "      <td>0.802184</td>\n",
       "      <td>0.330069</td>\n",
       "      <td>0.600680</td>\n",
       "      <td>0.458779</td>\n",
       "      <td>0.437264</td>\n",
       "      <td>0.511570</td>\n",
       "      <td>0.513648</td>\n",
       "    </tr>\n",
       "    <tr>\n",
       "      <th>2000-01-04</th>\n",
       "      <td>0.797506</td>\n",
       "      <td>0.380700</td>\n",
       "      <td>0.203135</td>\n",
       "      <td>0.295180</td>\n",
       "      <td>0.905548</td>\n",
       "      <td>0.681816</td>\n",
       "      <td>0.378440</td>\n",
       "      <td>0.586181</td>\n",
       "      <td>0.416317</td>\n",
       "      <td>0.880770</td>\n",
       "      <td>...</td>\n",
       "      <td>0.243053</td>\n",
       "      <td>0.810893</td>\n",
       "      <td>0.087853</td>\n",
       "      <td>0.614088</td>\n",
       "      <td>0.058097</td>\n",
       "      <td>0.344055</td>\n",
       "      <td>0.867407</td>\n",
       "      <td>0.844524</td>\n",
       "      <td>0.394201</td>\n",
       "      <td>0.510474</td>\n",
       "    </tr>\n",
       "    <tr>\n",
       "      <th>2000-01-05</th>\n",
       "      <td>0.599452</td>\n",
       "      <td>0.029701</td>\n",
       "      <td>0.844422</td>\n",
       "      <td>0.360714</td>\n",
       "      <td>0.067289</td>\n",
       "      <td>0.037062</td>\n",
       "      <td>0.807436</td>\n",
       "      <td>0.022119</td>\n",
       "      <td>0.217792</td>\n",
       "      <td>0.880247</td>\n",
       "      <td>...</td>\n",
       "      <td>0.334908</td>\n",
       "      <td>0.504050</td>\n",
       "      <td>0.152440</td>\n",
       "      <td>0.493784</td>\n",
       "      <td>0.834294</td>\n",
       "      <td>0.249846</td>\n",
       "      <td>0.301049</td>\n",
       "      <td>0.094105</td>\n",
       "      <td>0.790561</td>\n",
       "      <td>0.612532</td>\n",
       "    </tr>\n",
       "  </tbody>\n",
       "</table>\n",
       "<p>5 rows × 3000 columns</p>\n",
       "</div>"
      ],
      "text/plain": [
       "            security_1  security_2  security_3  security_4  security_5  \\\n",
       "2000-01-01    0.392584    0.625054    0.669558    0.188382    0.001784   \n",
       "2000-01-02    0.466293    0.456574    0.585439    0.972702    0.167475   \n",
       "2000-01-03    0.247826    0.001302    0.885766    0.157682    0.500694   \n",
       "2000-01-04    0.797506    0.380700    0.203135    0.295180    0.905548   \n",
       "2000-01-05    0.599452    0.029701    0.844422    0.360714    0.067289   \n",
       "\n",
       "            security_6  security_7  security_8  security_9  security_10  \\\n",
       "2000-01-01    0.447520    0.252399    0.340551    0.404992     0.373324   \n",
       "2000-01-02    0.850245    0.079154    0.483501    0.938143     0.619679   \n",
       "2000-01-03    0.697191    0.851639    0.704573    0.443880     0.277468   \n",
       "2000-01-04    0.681816    0.378440    0.586181    0.416317     0.880770   \n",
       "2000-01-05    0.037062    0.807436    0.022119    0.217792     0.880247   \n",
       "\n",
       "                ...        security_2991  security_2992  security_2993  \\\n",
       "2000-01-01      ...             0.360577       0.921351       0.634983   \n",
       "2000-01-02      ...             0.947560       0.786374       0.959465   \n",
       "2000-01-03      ...             0.988258       0.905205       0.966228   \n",
       "2000-01-04      ...             0.243053       0.810893       0.087853   \n",
       "2000-01-05      ...             0.334908       0.504050       0.152440   \n",
       "\n",
       "            security_2994  security_2995  security_2996  security_2997  \\\n",
       "2000-01-01       0.058465       0.688956       0.041971       0.998202   \n",
       "2000-01-02       0.192875       0.672820       0.160444       0.204460   \n",
       "2000-01-03       0.802184       0.330069       0.600680       0.458779   \n",
       "2000-01-04       0.614088       0.058097       0.344055       0.867407   \n",
       "2000-01-05       0.493784       0.834294       0.249846       0.301049   \n",
       "\n",
       "            security_2998  security_2999  security_3000  \n",
       "2000-01-01       0.498439       0.988464       0.242572  \n",
       "2000-01-02       0.752983       0.706620       0.049735  \n",
       "2000-01-03       0.437264       0.511570       0.513648  \n",
       "2000-01-04       0.844524       0.394201       0.510474  \n",
       "2000-01-05       0.094105       0.790561       0.612532  \n",
       "\n",
       "[5 rows x 3000 columns]"
      ]
     },
     "execution_count": 3,
     "metadata": {},
     "output_type": "execute_result"
    }
   ],
   "source": [
    "days = 365*10\n",
    "n_securities = 3000\n",
    "df_wide = pd.DataFrame(data=np.random.rand(days, n_securities), index=pd.date_range('2000', periods=days))\n",
    "df_wide.columns = ['security_{}'.format(i) for i in range(1, n_securities+1)]\n",
    "df_wide.head()"
   ]
  },
  {
   "cell_type": "markdown",
   "metadata": {},
   "source": [
    "Using feather to read/write data\n",
    "==="
   ]
  },
  {
   "cell_type": "code",
   "execution_count": 6,
   "metadata": {},
   "outputs": [
    {
     "name": "stdout",
     "output_type": "stream",
     "text": [
      "CPU times: user 481 ms, sys: 82.6 ms, total: 564 ms\n",
      "Wall time: 584 ms\n"
     ]
    }
   ],
   "source": [
    "%time df_wide.reset_index().to_feather('data/wide.feather')"
   ]
  },
  {
   "cell_type": "code",
   "execution_count": 9,
   "metadata": {},
   "outputs": [
    {
     "name": "stdout",
     "output_type": "stream",
     "text": [
      "CPU times: user 74.7 ms, sys: 71.4 ms, total: 146 ms\n",
      "Wall time: 147 ms\n"
     ]
    }
   ],
   "source": [
    "%time rb_wide = pd.read_feather('data/wide.feather')"
   ]
  },
  {
   "cell_type": "code",
   "execution_count": 10,
   "metadata": {},
   "outputs": [
    {
     "name": "stdout",
     "output_type": "stream",
     "text": [
      " 84M\tdata/wide.feather\r\n"
     ]
    }
   ],
   "source": [
    "!du -h data/wide.feather"
   ]
  },
  {
   "cell_type": "code",
   "execution_count": 11,
   "metadata": {},
   "outputs": [
    {
     "name": "stdout",
     "output_type": "stream",
     "text": [
      "CPU times: user 696 ms, sys: 488 ms, total: 1.18 s\n",
      "Wall time: 1.26 s\n"
     ]
    }
   ],
   "source": [
    "# reshape wide to tall\n",
    "%time df_tall = df_wide.stack().reset_index().rename(columns={'level_0': 'date', 'level_1': 'security_id', 0: 'vals'})"
   ]
  },
  {
   "cell_type": "code",
   "execution_count": 12,
   "metadata": {},
   "outputs": [
    {
     "name": "stdout",
     "output_type": "stream",
     "text": [
      "CPU times: user 855 ms, sys: 367 ms, total: 1.22 s\n",
      "Wall time: 1.28 s\n"
     ]
    }
   ],
   "source": [
    "%time df_tall.to_feather('data/tall.feather')"
   ]
  },
  {
   "cell_type": "code",
   "execution_count": 13,
   "metadata": {},
   "outputs": [
    {
     "name": "stdout",
     "output_type": "stream",
     "text": [
      "CPU times: user 713 ms, sys: 525 ms, total: 1.24 s\n",
      "Wall time: 1.75 s\n"
     ]
    }
   ],
   "source": [
    "%time rb_tall = pd.read_feather('data/tall.feather')"
   ]
  },
  {
   "cell_type": "code",
   "execution_count": 14,
   "metadata": {},
   "outputs": [
    {
     "name": "stdout",
     "output_type": "stream",
     "text": [
      "341M\tdata/tall.feather\r\n"
     ]
    }
   ],
   "source": [
    "!du -h data/tall.feather"
   ]
  }
 ],
 "metadata": {
  "kernelspec": {
   "display_name": "Python 3",
   "language": "python",
   "name": "python3"
  },
  "language_info": {
   "codemirror_mode": {
    "name": "ipython",
    "version": 3
   },
   "file_extension": ".py",
   "mimetype": "text/x-python",
   "name": "python",
   "nbconvert_exporter": "python",
   "pygments_lexer": "ipython3",
   "version": "3.6.0"
  }
 },
 "nbformat": 4,
 "nbformat_minor": 2
}
