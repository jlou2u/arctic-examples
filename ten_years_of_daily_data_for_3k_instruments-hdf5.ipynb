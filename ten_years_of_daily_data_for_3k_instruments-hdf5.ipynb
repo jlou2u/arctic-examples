{
 "cells": [
  {
   "cell_type": "code",
   "execution_count": null,
   "metadata": {
    "collapsed": true
   },
   "outputs": [],
   "source": [
    "!rm -r ./data/\n",
    "!mkdir data"
   ]
  },
  {
   "cell_type": "code",
   "execution_count": 1,
   "metadata": {
    "collapsed": true
   },
   "outputs": [],
   "source": [
    "import time\n",
    "\n",
    "import numpy as np\n",
    "import pandas as pd"
   ]
  },
  {
   "cell_type": "markdown",
   "metadata": {},
   "source": [
    "Create an example dataframe\n",
    "==="
   ]
  },
  {
   "cell_type": "code",
   "execution_count": 2,
   "metadata": {},
   "outputs": [
    {
     "data": {
      "text/html": [
       "<div>\n",
       "<style>\n",
       "    .dataframe thead tr:only-child th {\n",
       "        text-align: right;\n",
       "    }\n",
       "\n",
       "    .dataframe thead th {\n",
       "        text-align: left;\n",
       "    }\n",
       "\n",
       "    .dataframe tbody tr th {\n",
       "        vertical-align: top;\n",
       "    }\n",
       "</style>\n",
       "<table border=\"1\" class=\"dataframe\">\n",
       "  <thead>\n",
       "    <tr style=\"text-align: right;\">\n",
       "      <th></th>\n",
       "      <th>security_1</th>\n",
       "      <th>security_2</th>\n",
       "      <th>security_3</th>\n",
       "      <th>security_4</th>\n",
       "      <th>security_5</th>\n",
       "      <th>security_6</th>\n",
       "      <th>security_7</th>\n",
       "      <th>security_8</th>\n",
       "      <th>security_9</th>\n",
       "      <th>security_10</th>\n",
       "      <th>...</th>\n",
       "      <th>security_2991</th>\n",
       "      <th>security_2992</th>\n",
       "      <th>security_2993</th>\n",
       "      <th>security_2994</th>\n",
       "      <th>security_2995</th>\n",
       "      <th>security_2996</th>\n",
       "      <th>security_2997</th>\n",
       "      <th>security_2998</th>\n",
       "      <th>security_2999</th>\n",
       "      <th>security_3000</th>\n",
       "    </tr>\n",
       "  </thead>\n",
       "  <tbody>\n",
       "    <tr>\n",
       "      <th>2000-01-01</th>\n",
       "      <td>0.085617</td>\n",
       "      <td>0.326365</td>\n",
       "      <td>0.601840</td>\n",
       "      <td>0.156531</td>\n",
       "      <td>0.839945</td>\n",
       "      <td>0.844082</td>\n",
       "      <td>0.767079</td>\n",
       "      <td>0.163527</td>\n",
       "      <td>0.289341</td>\n",
       "      <td>0.806636</td>\n",
       "      <td>...</td>\n",
       "      <td>0.172043</td>\n",
       "      <td>0.391151</td>\n",
       "      <td>0.474607</td>\n",
       "      <td>0.842958</td>\n",
       "      <td>0.655185</td>\n",
       "      <td>0.620974</td>\n",
       "      <td>0.866098</td>\n",
       "      <td>0.078042</td>\n",
       "      <td>0.567426</td>\n",
       "      <td>0.011965</td>\n",
       "    </tr>\n",
       "    <tr>\n",
       "      <th>2000-01-02</th>\n",
       "      <td>0.940922</td>\n",
       "      <td>0.275280</td>\n",
       "      <td>0.419693</td>\n",
       "      <td>0.269434</td>\n",
       "      <td>0.063795</td>\n",
       "      <td>0.906147</td>\n",
       "      <td>0.164838</td>\n",
       "      <td>0.998205</td>\n",
       "      <td>0.772404</td>\n",
       "      <td>0.710726</td>\n",
       "      <td>...</td>\n",
       "      <td>0.168168</td>\n",
       "      <td>0.842518</td>\n",
       "      <td>0.811813</td>\n",
       "      <td>0.542401</td>\n",
       "      <td>0.058447</td>\n",
       "      <td>0.331530</td>\n",
       "      <td>0.507732</td>\n",
       "      <td>0.751599</td>\n",
       "      <td>0.277018</td>\n",
       "      <td>0.135892</td>\n",
       "    </tr>\n",
       "    <tr>\n",
       "      <th>2000-01-03</th>\n",
       "      <td>0.854265</td>\n",
       "      <td>0.267392</td>\n",
       "      <td>0.197766</td>\n",
       "      <td>0.540227</td>\n",
       "      <td>0.778471</td>\n",
       "      <td>0.306053</td>\n",
       "      <td>0.580950</td>\n",
       "      <td>0.979425</td>\n",
       "      <td>0.497579</td>\n",
       "      <td>0.050785</td>\n",
       "      <td>...</td>\n",
       "      <td>0.585854</td>\n",
       "      <td>0.462822</td>\n",
       "      <td>0.152851</td>\n",
       "      <td>0.402090</td>\n",
       "      <td>0.769772</td>\n",
       "      <td>0.745623</td>\n",
       "      <td>0.231692</td>\n",
       "      <td>0.363018</td>\n",
       "      <td>0.910562</td>\n",
       "      <td>0.056302</td>\n",
       "    </tr>\n",
       "    <tr>\n",
       "      <th>2000-01-04</th>\n",
       "      <td>0.021660</td>\n",
       "      <td>0.392681</td>\n",
       "      <td>0.996974</td>\n",
       "      <td>0.040770</td>\n",
       "      <td>0.837398</td>\n",
       "      <td>0.657741</td>\n",
       "      <td>0.092285</td>\n",
       "      <td>0.947186</td>\n",
       "      <td>0.558361</td>\n",
       "      <td>0.604619</td>\n",
       "      <td>...</td>\n",
       "      <td>0.696493</td>\n",
       "      <td>0.933745</td>\n",
       "      <td>0.936531</td>\n",
       "      <td>0.046087</td>\n",
       "      <td>0.597880</td>\n",
       "      <td>0.941766</td>\n",
       "      <td>0.098167</td>\n",
       "      <td>0.976210</td>\n",
       "      <td>0.350679</td>\n",
       "      <td>0.501370</td>\n",
       "    </tr>\n",
       "    <tr>\n",
       "      <th>2000-01-05</th>\n",
       "      <td>0.595625</td>\n",
       "      <td>0.252453</td>\n",
       "      <td>0.314736</td>\n",
       "      <td>0.933267</td>\n",
       "      <td>0.820543</td>\n",
       "      <td>0.854095</td>\n",
       "      <td>0.434151</td>\n",
       "      <td>0.747225</td>\n",
       "      <td>0.797754</td>\n",
       "      <td>0.822736</td>\n",
       "      <td>...</td>\n",
       "      <td>0.498067</td>\n",
       "      <td>0.512264</td>\n",
       "      <td>0.977890</td>\n",
       "      <td>0.784289</td>\n",
       "      <td>0.222300</td>\n",
       "      <td>0.235847</td>\n",
       "      <td>0.644344</td>\n",
       "      <td>0.664169</td>\n",
       "      <td>0.812744</td>\n",
       "      <td>0.038360</td>\n",
       "    </tr>\n",
       "  </tbody>\n",
       "</table>\n",
       "<p>5 rows × 3000 columns</p>\n",
       "</div>"
      ],
      "text/plain": [
       "            security_1  security_2  security_3  security_4  security_5  \\\n",
       "2000-01-01    0.085617    0.326365    0.601840    0.156531    0.839945   \n",
       "2000-01-02    0.940922    0.275280    0.419693    0.269434    0.063795   \n",
       "2000-01-03    0.854265    0.267392    0.197766    0.540227    0.778471   \n",
       "2000-01-04    0.021660    0.392681    0.996974    0.040770    0.837398   \n",
       "2000-01-05    0.595625    0.252453    0.314736    0.933267    0.820543   \n",
       "\n",
       "            security_6  security_7  security_8  security_9  security_10  \\\n",
       "2000-01-01    0.844082    0.767079    0.163527    0.289341     0.806636   \n",
       "2000-01-02    0.906147    0.164838    0.998205    0.772404     0.710726   \n",
       "2000-01-03    0.306053    0.580950    0.979425    0.497579     0.050785   \n",
       "2000-01-04    0.657741    0.092285    0.947186    0.558361     0.604619   \n",
       "2000-01-05    0.854095    0.434151    0.747225    0.797754     0.822736   \n",
       "\n",
       "                ...        security_2991  security_2992  security_2993  \\\n",
       "2000-01-01      ...             0.172043       0.391151       0.474607   \n",
       "2000-01-02      ...             0.168168       0.842518       0.811813   \n",
       "2000-01-03      ...             0.585854       0.462822       0.152851   \n",
       "2000-01-04      ...             0.696493       0.933745       0.936531   \n",
       "2000-01-05      ...             0.498067       0.512264       0.977890   \n",
       "\n",
       "            security_2994  security_2995  security_2996  security_2997  \\\n",
       "2000-01-01       0.842958       0.655185       0.620974       0.866098   \n",
       "2000-01-02       0.542401       0.058447       0.331530       0.507732   \n",
       "2000-01-03       0.402090       0.769772       0.745623       0.231692   \n",
       "2000-01-04       0.046087       0.597880       0.941766       0.098167   \n",
       "2000-01-05       0.784289       0.222300       0.235847       0.644344   \n",
       "\n",
       "            security_2998  security_2999  security_3000  \n",
       "2000-01-01       0.078042       0.567426       0.011965  \n",
       "2000-01-02       0.751599       0.277018       0.135892  \n",
       "2000-01-03       0.363018       0.910562       0.056302  \n",
       "2000-01-04       0.976210       0.350679       0.501370  \n",
       "2000-01-05       0.664169       0.812744       0.038360  \n",
       "\n",
       "[5 rows x 3000 columns]"
      ]
     },
     "execution_count": 2,
     "metadata": {},
     "output_type": "execute_result"
    }
   ],
   "source": [
    "days = 365*10\n",
    "n_securities = 3000\n",
    "df_wide = pd.DataFrame(data=np.random.rand(days, n_securities), index=pd.date_range('2000', periods=days))\n",
    "df_wide.columns = ['security_{}'.format(i) for i in range(1, n_securities+1)]\n",
    "df_wide.head()"
   ]
  },
  {
   "cell_type": "markdown",
   "metadata": {},
   "source": [
    "Using HDF5 (fixed) to read/write data\n",
    "==="
   ]
  },
  {
   "cell_type": "code",
   "execution_count": 15,
   "metadata": {},
   "outputs": [
    {
     "name": "stdout",
     "output_type": "stream",
     "text": [
      "CPU times: user 12 ms, sys: 28.9 ms, total: 40.9 ms\n",
      "Wall time: 54.2 ms\n"
     ]
    }
   ],
   "source": [
    "%time df_wide.to_hdf('data/fixed_wide.hdf', key='wide1')"
   ]
  },
  {
   "cell_type": "code",
   "execution_count": 16,
   "metadata": {},
   "outputs": [
    {
     "name": "stdout",
     "output_type": "stream",
     "text": [
      "CPU times: user 12.7 ms, sys: 37.7 ms, total: 50.4 ms\n",
      "Wall time: 48.8 ms\n"
     ]
    }
   ],
   "source": [
    "%time rb_wide = pd.read_hdf('data/fixed_wide.hdf', key='wide1')"
   ]
  },
  {
   "cell_type": "code",
   "execution_count": 20,
   "metadata": {},
   "outputs": [
    {
     "name": "stdout",
     "output_type": "stream",
     "text": [
      " 84M\tdata/fixed_wide.hdf\r\n"
     ]
    }
   ],
   "source": [
    "!du -h data/fixed_wide.hdf"
   ]
  },
  {
   "cell_type": "code",
   "execution_count": 44,
   "metadata": {
    "collapsed": true
   },
   "outputs": [],
   "source": [
    "#wide, most compression"
   ]
  },
  {
   "cell_type": "code",
   "execution_count": 45,
   "metadata": {},
   "outputs": [
    {
     "name": "stdout",
     "output_type": "stream",
     "text": [
      "CPU times: user 353 ms, sys: 34 ms, total: 387 ms\n",
      "Wall time: 411 ms\n"
     ]
    }
   ],
   "source": [
    "%time df_wide.to_hdf('data/fixed_wide_cmp.hdf', key='wide', complevel=9, complib='blosc')"
   ]
  },
  {
   "cell_type": "code",
   "execution_count": 46,
   "metadata": {},
   "outputs": [
    {
     "name": "stdout",
     "output_type": "stream",
     "text": [
      "CPU times: user 58.7 ms, sys: 65.1 ms, total: 124 ms\n",
      "Wall time: 126 ms\n"
     ]
    }
   ],
   "source": [
    "%time rb_wide = pd.read_hdf('data/fixed_wide_cmp.hdf', key='wide')"
   ]
  },
  {
   "cell_type": "code",
   "execution_count": 47,
   "metadata": {},
   "outputs": [
    {
     "name": "stdout",
     "output_type": "stream",
     "text": [
      " 74M\tdata/fixed_wide_cmp.hdf\r\n"
     ]
    }
   ],
   "source": [
    "!du -h data/fixed_wide_cmp.hdf"
   ]
  },
  {
   "cell_type": "code",
   "execution_count": 17,
   "metadata": {},
   "outputs": [
    {
     "name": "stdout",
     "output_type": "stream",
     "text": [
      "CPU times: user 738 ms, sys: 489 ms, total: 1.23 s\n",
      "Wall time: 1.24 s\n"
     ]
    }
   ],
   "source": [
    "# reshape wide to tall\n",
    "%time df_tall = df_wide.stack().reset_index().rename(columns={'level_0': 'date', 'level_1': 'security_id', 0: 'vals'})"
   ]
  },
  {
   "cell_type": "code",
   "execution_count": 43,
   "metadata": {
    "collapsed": true
   },
   "outputs": [],
   "source": [
    "# tall, no compression"
   ]
  },
  {
   "cell_type": "code",
   "execution_count": 18,
   "metadata": {},
   "outputs": [
    {
     "name": "stdout",
     "output_type": "stream",
     "text": [
      "CPU times: user 457 ms, sys: 232 ms, total: 689 ms\n",
      "Wall time: 769 ms\n"
     ]
    }
   ],
   "source": [
    "%time df_tall.to_hdf('data/fixed_tall.hdf', key='tall')"
   ]
  },
  {
   "cell_type": "code",
   "execution_count": 19,
   "metadata": {},
   "outputs": [
    {
     "name": "stdout",
     "output_type": "stream",
     "text": [
      "CPU times: user 355 ms, sys: 328 ms, total: 683 ms\n",
      "Wall time: 689 ms\n"
     ]
    }
   ],
   "source": [
    "%time rb_tall = pd.read_hdf('data/fixed_tall.hdf', key='tall')"
   ]
  },
  {
   "cell_type": "code",
   "execution_count": 21,
   "metadata": {},
   "outputs": [
    {
     "name": "stdout",
     "output_type": "stream",
     "text": [
      "301M\tdata/fixed_tall.hdf\r\n"
     ]
    }
   ],
   "source": [
    "!du -h data/fixed_tall.hdf"
   ]
  },
  {
   "cell_type": "code",
   "execution_count": 42,
   "metadata": {
    "collapsed": true
   },
   "outputs": [],
   "source": [
    "# tall, most compression"
   ]
  },
  {
   "cell_type": "code",
   "execution_count": 48,
   "metadata": {},
   "outputs": [
    {
     "name": "stdout",
     "output_type": "stream",
     "text": [
      "CPU times: user 864 ms, sys: 257 ms, total: 1.12 s\n",
      "Wall time: 1.48 s\n"
     ]
    }
   ],
   "source": [
    "%time df_tall.to_hdf('data/fixed_tall_cmp.hdf', key='tall', complevel=9, complib='blosc')"
   ]
  },
  {
   "cell_type": "code",
   "execution_count": 49,
   "metadata": {},
   "outputs": [
    {
     "name": "stdout",
     "output_type": "stream",
     "text": [
      "CPU times: user 436 ms, sys: 440 ms, total: 876 ms\n",
      "Wall time: 1.04 s\n"
     ]
    }
   ],
   "source": [
    "%time rb_tall = pd.read_hdf('data/fixed_tall_cmp.hdf', key='tall')"
   ]
  },
  {
   "cell_type": "code",
   "execution_count": 50,
   "metadata": {},
   "outputs": [
    {
     "name": "stdout",
     "output_type": "stream",
     "text": [
      "259M\tdata/fixed_tall_cmp.hdf\r\n"
     ]
    }
   ],
   "source": [
    "!du -h data/fixed_tall_cmp.hdf"
   ]
  },
  {
   "cell_type": "markdown",
   "metadata": {},
   "source": [
    "Using HDF5 (tables) to read/write data\n",
    "==="
   ]
  },
  {
   "cell_type": "code",
   "execution_count": 25,
   "metadata": {},
   "outputs": [
    {
     "name": "stdout",
     "output_type": "stream",
     "text": [
      "CPU times: user 125 ms, sys: 163 ms, total: 288 ms\n",
      "Wall time: 469 ms\n"
     ]
    }
   ],
   "source": [
    "%time df_wide.to_hdf('data/tables_wide.hdf', key='wide', format='table')"
   ]
  },
  {
   "cell_type": "code",
   "execution_count": 26,
   "metadata": {},
   "outputs": [
    {
     "name": "stdout",
     "output_type": "stream",
     "text": [
      "CPU times: user 29.9 ms, sys: 35.1 ms, total: 65 ms\n",
      "Wall time: 69.1 ms\n"
     ]
    }
   ],
   "source": [
    "%time rb_wide = pd.read_hdf('data/tables_wide.hdf', key='wide')"
   ]
  },
  {
   "cell_type": "code",
   "execution_count": 27,
   "metadata": {},
   "outputs": [
    {
     "name": "stdout",
     "output_type": "stream",
     "text": [
      " 84M\tdata/tables_wide.hdf\r\n"
     ]
    }
   ],
   "source": [
    "!du -h data/tables_wide.hdf"
   ]
  },
  {
   "cell_type": "code",
   "execution_count": 28,
   "metadata": {},
   "outputs": [
    {
     "name": "stdout",
     "output_type": "stream",
     "text": [
      "CPU times: user 14 s, sys: 990 ms, total: 15 s\n",
      "Wall time: 15.2 s\n"
     ]
    }
   ],
   "source": [
    "%time df_tall.to_hdf('data/tables_tall.hdf', key='tall', format='table')"
   ]
  },
  {
   "cell_type": "code",
   "execution_count": 29,
   "metadata": {},
   "outputs": [
    {
     "name": "stdout",
     "output_type": "stream",
     "text": [
      "CPU times: user 8.17 s, sys: 1.01 s, total: 9.18 s\n",
      "Wall time: 9.29 s\n"
     ]
    }
   ],
   "source": [
    "%time rb_tall = pd.read_hdf('data/tables_tall.hdf', key='tall')"
   ]
  },
  {
   "cell_type": "code",
   "execution_count": 30,
   "metadata": {},
   "outputs": [
    {
     "name": "stdout",
     "output_type": "stream",
     "text": [
      "388M\tdata/tables_tall.hdf\r\n"
     ]
    }
   ],
   "source": [
    "!du -h data/tables_tall.hdf"
   ]
  }
 ],
 "metadata": {
  "kernelspec": {
   "display_name": "Python 3",
   "language": "python",
   "name": "python3"
  },
  "language_info": {
   "codemirror_mode": {
    "name": "ipython",
    "version": 3
   },
   "file_extension": ".py",
   "mimetype": "text/x-python",
   "name": "python",
   "nbconvert_exporter": "python",
   "pygments_lexer": "ipython3",
   "version": "3.6.0"
  }
 },
 "nbformat": 4,
 "nbformat_minor": 2
}
